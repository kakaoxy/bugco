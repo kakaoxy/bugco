{
 "cells": [
  {
   "cell_type": "markdown",
   "id": "1cebf363",
   "metadata": {},
   "source": [
    "# Pandas"
   ]
  },
  {
   "cell_type": "code",
   "execution_count": 2,
   "id": "8e1d3359",
   "metadata": {},
   "outputs": [],
   "source": [
    "import pandas as pd\n",
    "import numpy as np\n",
    "import html5lib"
   ]
  },
  {
   "cell_type": "markdown",
   "id": "4f98f53b",
   "metadata": {},
   "source": [
    "## 两种基本结构：\n",
    "* Series  | 一维数组，能保存不同的数据类型\n",
    "* DataFrame   | 二维数组"
   ]
  },
  {
   "cell_type": "markdown",
   "id": "e2de44bc",
   "metadata": {},
   "source": [
    "### 1. Series "
   ]
  },
  {
   "cell_type": "code",
   "execution_count": 3,
   "id": "031142dd",
   "metadata": {},
   "outputs": [
    {
     "data": {
      "text/plain": [
       "0    1.0\n",
       "1    3.0\n",
       "2    5.0\n",
       "3    NaN\n",
       "4    6.0\n",
       "5    8.0\n",
       "dtype: float64"
      ]
     },
     "execution_count": 3,
     "metadata": {},
     "output_type": "execute_result"
    }
   ],
   "source": [
    "s = pd.Series([1,3,5,np.nan,6,8])\n",
    "#,index=['a','b','c','d','e','f']) #index可变更索引号，缺省值为12345...\n",
    "s"
   ]
  },
  {
   "cell_type": "code",
   "execution_count": 4,
   "id": "c77ae587",
   "metadata": {},
   "outputs": [
    {
     "data": {
      "text/plain": [
       "RangeIndex(start=0, stop=6, step=1)"
      ]
     },
     "execution_count": 4,
     "metadata": {},
     "output_type": "execute_result"
    }
   ],
   "source": [
    "s.index"
   ]
  },
  {
   "cell_type": "code",
   "execution_count": 5,
   "id": "fa96a3d9",
   "metadata": {},
   "outputs": [
    {
     "data": {
      "text/plain": [
       "array([ 1.,  3.,  5., nan,  6.,  8.])"
      ]
     },
     "execution_count": 5,
     "metadata": {},
     "output_type": "execute_result"
    }
   ],
   "source": [
    "s.values"
   ]
  },
  {
   "cell_type": "code",
   "execution_count": 6,
   "id": "2c9b3e95",
   "metadata": {},
   "outputs": [
    {
     "data": {
      "text/plain": [
       "1.0"
      ]
     },
     "execution_count": 6,
     "metadata": {},
     "output_type": "execute_result"
    }
   ],
   "source": [
    "s[0]"
   ]
  },
  {
   "cell_type": "markdown",
   "id": "d9710520",
   "metadata": {},
   "source": [
    "#### 切片操作\n",
    "变量名[A:B:C]\n",
    "* A起始位置\n",
    "* B结束位置（不包含B）\n",
    "* C步长"
   ]
  },
  {
   "cell_type": "code",
   "execution_count": 7,
   "id": "0d39d3d2",
   "metadata": {},
   "outputs": [
    {
     "data": {
      "text/plain": [
       "2    5.0\n",
       "3    NaN\n",
       "4    6.0\n",
       "dtype: float64"
      ]
     },
     "execution_count": 7,
     "metadata": {},
     "output_type": "execute_result"
    }
   ],
   "source": [
    "s[2:5]"
   ]
  },
  {
   "cell_type": "code",
   "execution_count": 8,
   "id": "75445668",
   "metadata": {},
   "outputs": [
    {
     "data": {
      "text/plain": [
       "0    1.0\n",
       "2    5.0\n",
       "4    6.0\n",
       "dtype: float64"
      ]
     },
     "execution_count": 8,
     "metadata": {},
     "output_type": "execute_result"
    }
   ],
   "source": [
    "s[::2]"
   ]
  },
  {
   "cell_type": "code",
   "execution_count": 9,
   "id": "02242104",
   "metadata": {},
   "outputs": [
    {
     "data": {
      "text/plain": [
       "索引\n",
       "0    1.0\n",
       "1    3.0\n",
       "2    5.0\n",
       "3    NaN\n",
       "4    6.0\n",
       "5    8.0\n",
       "dtype: float64"
      ]
     },
     "execution_count": 9,
     "metadata": {},
     "output_type": "execute_result"
    }
   ],
   "source": [
    "s.index.name='索引' #索引赋值\n",
    "s"
   ]
  },
  {
   "cell_type": "code",
   "execution_count": 10,
   "id": "6172d13a",
   "metadata": {},
   "outputs": [
    {
     "data": {
      "text/plain": [
       "a    1.0\n",
       "b    3.0\n",
       "c    5.0\n",
       "d    NaN\n",
       "e    6.0\n",
       "f    8.0\n",
       "dtype: float64"
      ]
     },
     "execution_count": 10,
     "metadata": {},
     "output_type": "execute_result"
    }
   ],
   "source": [
    "s.index=list('abcdef')\n",
    "s"
   ]
  },
  {
   "cell_type": "code",
   "execution_count": 11,
   "id": "98da0f89",
   "metadata": {},
   "outputs": [
    {
     "data": {
      "text/plain": [
       "a    1.0\n",
       "b    3.0\n",
       "c    5.0\n",
       "dtype: float64"
      ]
     },
     "execution_count": 11,
     "metadata": {},
     "output_type": "execute_result"
    }
   ],
   "source": [
    "s['a':'c']#与正常索引不同，区间会包含c"
   ]
  },
  {
   "cell_type": "markdown",
   "id": "052d0cdc",
   "metadata": {},
   "source": [
    "## DataFrame"
   ]
  },
  {
   "cell_type": "markdown",
   "id": "547eec3a",
   "metadata": {},
   "source": [
    "**通过各类方法生成二维数组**"
   ]
  },
  {
   "cell_type": "code",
   "execution_count": 12,
   "id": "4aa9e8d7",
   "metadata": {},
   "outputs": [
    {
     "data": {
      "text/plain": [
       "DatetimeIndex(['2018-01-01', '2018-01-02', '2018-01-03', '2018-01-04',\n",
       "               '2018-01-05', '2018-01-06'],\n",
       "              dtype='datetime64[ns]', freq='D')"
      ]
     },
     "execution_count": 12,
     "metadata": {},
     "output_type": "execute_result"
    }
   ],
   "source": [
    "date=pd.date_range('20180101',periods=6)\n",
    "date"
   ]
  },
  {
   "cell_type": "code",
   "execution_count": 13,
   "id": "a0645bf3",
   "metadata": {},
   "outputs": [
    {
     "data": {
      "text/html": [
       "<div>\n",
       "<style scoped>\n",
       "    .dataframe tbody tr th:only-of-type {\n",
       "        vertical-align: middle;\n",
       "    }\n",
       "\n",
       "    .dataframe tbody tr th {\n",
       "        vertical-align: top;\n",
       "    }\n",
       "\n",
       "    .dataframe thead th {\n",
       "        text-align: right;\n",
       "    }\n",
       "</style>\n",
       "<table border=\"1\" class=\"dataframe\">\n",
       "  <thead>\n",
       "    <tr style=\"text-align: right;\">\n",
       "      <th></th>\n",
       "      <th>A</th>\n",
       "      <th>B</th>\n",
       "      <th>C</th>\n",
       "      <th>D</th>\n",
       "    </tr>\n",
       "  </thead>\n",
       "  <tbody>\n",
       "    <tr>\n",
       "      <th>2018-01-01</th>\n",
       "      <td>-2.215470</td>\n",
       "      <td>1.178327</td>\n",
       "      <td>1.485599</td>\n",
       "      <td>-1.041013</td>\n",
       "    </tr>\n",
       "    <tr>\n",
       "      <th>2018-01-02</th>\n",
       "      <td>-0.593158</td>\n",
       "      <td>-0.760275</td>\n",
       "      <td>0.581925</td>\n",
       "      <td>-0.217323</td>\n",
       "    </tr>\n",
       "    <tr>\n",
       "      <th>2018-01-03</th>\n",
       "      <td>0.344874</td>\n",
       "      <td>-0.447070</td>\n",
       "      <td>-0.926444</td>\n",
       "      <td>0.351115</td>\n",
       "    </tr>\n",
       "    <tr>\n",
       "      <th>2018-01-04</th>\n",
       "      <td>0.981499</td>\n",
       "      <td>-0.516093</td>\n",
       "      <td>-0.037117</td>\n",
       "      <td>0.154929</td>\n",
       "    </tr>\n",
       "    <tr>\n",
       "      <th>2018-01-05</th>\n",
       "      <td>1.339876</td>\n",
       "      <td>0.065349</td>\n",
       "      <td>-0.710671</td>\n",
       "      <td>-1.599084</td>\n",
       "    </tr>\n",
       "    <tr>\n",
       "      <th>2018-01-06</th>\n",
       "      <td>-0.929235</td>\n",
       "      <td>-0.829088</td>\n",
       "      <td>1.504072</td>\n",
       "      <td>-0.129838</td>\n",
       "    </tr>\n",
       "  </tbody>\n",
       "</table>\n",
       "</div>"
      ],
      "text/plain": [
       "                   A         B         C         D\n",
       "2018-01-01 -2.215470  1.178327  1.485599 -1.041013\n",
       "2018-01-02 -0.593158 -0.760275  0.581925 -0.217323\n",
       "2018-01-03  0.344874 -0.447070 -0.926444  0.351115\n",
       "2018-01-04  0.981499 -0.516093 -0.037117  0.154929\n",
       "2018-01-05  1.339876  0.065349 -0.710671 -1.599084\n",
       "2018-01-06 -0.929235 -0.829088  1.504072 -0.129838"
      ]
     },
     "execution_count": 13,
     "metadata": {},
     "output_type": "execute_result"
    }
   ],
   "source": [
    "df=pd.DataFrame(np.random.randn(6,4),index=date,columns=list('ABCD')) #index可以为list\n",
    "df"
   ]
  },
  {
   "cell_type": "markdown",
   "id": "6795b1a6",
   "metadata": {},
   "source": [
    "**通过字典生成二维数组**\n",
    "* 每一行的数据格式可以不同\n",
    "* 但每一列的数据格式必须相同"
   ]
  },
  {
   "cell_type": "code",
   "execution_count": 14,
   "id": "369d2b8a",
   "metadata": {},
   "outputs": [
    {
     "data": {
      "text/html": [
       "<div>\n",
       "<style scoped>\n",
       "    .dataframe tbody tr th:only-of-type {\n",
       "        vertical-align: middle;\n",
       "    }\n",
       "\n",
       "    .dataframe tbody tr th {\n",
       "        vertical-align: top;\n",
       "    }\n",
       "\n",
       "    .dataframe thead th {\n",
       "        text-align: right;\n",
       "    }\n",
       "</style>\n",
       "<table border=\"1\" class=\"dataframe\">\n",
       "  <thead>\n",
       "    <tr style=\"text-align: right;\">\n",
       "      <th></th>\n",
       "      <th>A</th>\n",
       "      <th>B</th>\n",
       "      <th>C</th>\n",
       "      <th>D</th>\n",
       "      <th>E</th>\n",
       "      <th>F</th>\n",
       "    </tr>\n",
       "  </thead>\n",
       "  <tbody>\n",
       "    <tr>\n",
       "      <th>0</th>\n",
       "      <td>1</td>\n",
       "      <td>2018-10-01</td>\n",
       "      <td>1.0</td>\n",
       "      <td>3</td>\n",
       "      <td>test</td>\n",
       "      <td>abc</td>\n",
       "    </tr>\n",
       "    <tr>\n",
       "      <th>1</th>\n",
       "      <td>1</td>\n",
       "      <td>2018-10-01</td>\n",
       "      <td>1.0</td>\n",
       "      <td>3</td>\n",
       "      <td>train</td>\n",
       "      <td>abc</td>\n",
       "    </tr>\n",
       "    <tr>\n",
       "      <th>2</th>\n",
       "      <td>1</td>\n",
       "      <td>2018-10-01</td>\n",
       "      <td>1.0</td>\n",
       "      <td>3</td>\n",
       "      <td>test</td>\n",
       "      <td>abc</td>\n",
       "    </tr>\n",
       "    <tr>\n",
       "      <th>3</th>\n",
       "      <td>1</td>\n",
       "      <td>2018-10-01</td>\n",
       "      <td>1.0</td>\n",
       "      <td>3</td>\n",
       "      <td>train</td>\n",
       "      <td>abc</td>\n",
       "    </tr>\n",
       "  </tbody>\n",
       "</table>\n",
       "</div>"
      ],
      "text/plain": [
       "   A          B    C  D      E    F\n",
       "0  1 2018-10-01  1.0  3   test  abc\n",
       "1  1 2018-10-01  1.0  3  train  abc\n",
       "2  1 2018-10-01  1.0  3   test  abc\n",
       "3  1 2018-10-01  1.0  3  train  abc"
      ]
     },
     "execution_count": 14,
     "metadata": {},
     "output_type": "execute_result"
    }
   ],
   "source": [
    "df2 = pd.DataFrame({'A':1,\n",
    "                   'B':pd.Timestamp('20181001'),\n",
    "                   'C':pd.Series(1,index=list(range(4)),dtype=float),\n",
    "                   'D':np.array([3]*4,dtype=int),\n",
    "                   'E':pd.Categorical([\"test\",\"train\",\"test\",\"train\"]),\n",
    "                   'F':'abc'})\n",
    "df2"
   ]
  },
  {
   "cell_type": "markdown",
   "id": "528e433b",
   "metadata": {},
   "source": [
    "# 查看数组"
   ]
  },
  {
   "cell_type": "markdown",
   "id": "69f15248",
   "metadata": {},
   "source": [
    "### 头尾数据\n",
    "* head()\n",
    "* tail()\n",
    "\n",
    "*默认前五行*"
   ]
  },
  {
   "cell_type": "code",
   "execution_count": 15,
   "id": "bc6276f3",
   "metadata": {},
   "outputs": [
    {
     "data": {
      "text/html": [
       "<div>\n",
       "<style scoped>\n",
       "    .dataframe tbody tr th:only-of-type {\n",
       "        vertical-align: middle;\n",
       "    }\n",
       "\n",
       "    .dataframe tbody tr th {\n",
       "        vertical-align: top;\n",
       "    }\n",
       "\n",
       "    .dataframe thead th {\n",
       "        text-align: right;\n",
       "    }\n",
       "</style>\n",
       "<table border=\"1\" class=\"dataframe\">\n",
       "  <thead>\n",
       "    <tr style=\"text-align: right;\">\n",
       "      <th></th>\n",
       "      <th>A</th>\n",
       "      <th>B</th>\n",
       "      <th>C</th>\n",
       "      <th>D</th>\n",
       "    </tr>\n",
       "  </thead>\n",
       "  <tbody>\n",
       "    <tr>\n",
       "      <th>2018-01-01</th>\n",
       "      <td>-2.215470</td>\n",
       "      <td>1.178327</td>\n",
       "      <td>1.485599</td>\n",
       "      <td>-1.041013</td>\n",
       "    </tr>\n",
       "    <tr>\n",
       "      <th>2018-01-02</th>\n",
       "      <td>-0.593158</td>\n",
       "      <td>-0.760275</td>\n",
       "      <td>0.581925</td>\n",
       "      <td>-0.217323</td>\n",
       "    </tr>\n",
       "    <tr>\n",
       "      <th>2018-01-03</th>\n",
       "      <td>0.344874</td>\n",
       "      <td>-0.447070</td>\n",
       "      <td>-0.926444</td>\n",
       "      <td>0.351115</td>\n",
       "    </tr>\n",
       "    <tr>\n",
       "      <th>2018-01-04</th>\n",
       "      <td>0.981499</td>\n",
       "      <td>-0.516093</td>\n",
       "      <td>-0.037117</td>\n",
       "      <td>0.154929</td>\n",
       "    </tr>\n",
       "    <tr>\n",
       "      <th>2018-01-05</th>\n",
       "      <td>1.339876</td>\n",
       "      <td>0.065349</td>\n",
       "      <td>-0.710671</td>\n",
       "      <td>-1.599084</td>\n",
       "    </tr>\n",
       "  </tbody>\n",
       "</table>\n",
       "</div>"
      ],
      "text/plain": [
       "                   A         B         C         D\n",
       "2018-01-01 -2.215470  1.178327  1.485599 -1.041013\n",
       "2018-01-02 -0.593158 -0.760275  0.581925 -0.217323\n",
       "2018-01-03  0.344874 -0.447070 -0.926444  0.351115\n",
       "2018-01-04  0.981499 -0.516093 -0.037117  0.154929\n",
       "2018-01-05  1.339876  0.065349 -0.710671 -1.599084"
      ]
     },
     "execution_count": 15,
     "metadata": {},
     "output_type": "execute_result"
    }
   ],
   "source": [
    "df.head() "
   ]
  },
  {
   "cell_type": "markdown",
   "id": "ac8136c2",
   "metadata": {},
   "source": [
    "查看数据类型\n",
    "* .dtypes"
   ]
  },
  {
   "cell_type": "code",
   "execution_count": 16,
   "id": "09d2266a",
   "metadata": {},
   "outputs": [
    {
     "data": {
      "text/plain": [
       "A             int64\n",
       "B    datetime64[ns]\n",
       "C           float64\n",
       "D             int32\n",
       "E          category\n",
       "F            object\n",
       "dtype: object"
      ]
     },
     "execution_count": 16,
     "metadata": {},
     "output_type": "execute_result"
    }
   ],
   "source": [
    "df2.dtypes"
   ]
  },
  {
   "cell_type": "markdown",
   "id": "b5deab1c",
   "metadata": {},
   "source": [
    "下标，列标，数据\n",
    "* .index\n",
    "* .columns\n",
    "* .values"
   ]
  },
  {
   "cell_type": "code",
   "execution_count": 17,
   "id": "d7afcd84",
   "metadata": {},
   "outputs": [
    {
     "data": {
      "text/plain": [
       "DatetimeIndex(['2018-01-01', '2018-01-02', '2018-01-03', '2018-01-04',\n",
       "               '2018-01-05', '2018-01-06'],\n",
       "              dtype='datetime64[ns]', freq='D')"
      ]
     },
     "execution_count": 17,
     "metadata": {},
     "output_type": "execute_result"
    }
   ],
   "source": [
    "df.index"
   ]
  },
  {
   "cell_type": "code",
   "execution_count": 18,
   "id": "121aded0",
   "metadata": {},
   "outputs": [
    {
     "data": {
      "text/plain": [
       "Index(['A', 'B', 'C', 'D'], dtype='object')"
      ]
     },
     "execution_count": 18,
     "metadata": {},
     "output_type": "execute_result"
    }
   ],
   "source": [
    "df.columns"
   ]
  },
  {
   "cell_type": "code",
   "execution_count": 19,
   "id": "0969c5f1",
   "metadata": {},
   "outputs": [
    {
     "data": {
      "text/plain": [
       "array([[-2.21547046,  1.17832711,  1.48559904, -1.04101327],\n",
       "       [-0.5931579 , -0.7602748 ,  0.58192488, -0.21732344],\n",
       "       [ 0.34487389, -0.44707041, -0.92644421,  0.35111539],\n",
       "       [ 0.98149876, -0.51609285, -0.0371174 ,  0.1549286 ],\n",
       "       [ 1.3398756 ,  0.06534941, -0.71067105, -1.59908356],\n",
       "       [-0.9292349 , -0.82908802,  1.50407156, -0.12983807]])"
      ]
     },
     "execution_count": 19,
     "metadata": {},
     "output_type": "execute_result"
    }
   ],
   "source": [
    "df.values"
   ]
  },
  {
   "cell_type": "markdown",
   "id": "db6fd542",
   "metadata": {},
   "source": [
    "## pandas读取数据及数据操作"
   ]
  },
  {
   "cell_type": "code",
   "execution_count": 20,
   "id": "08b6ef12",
   "metadata": {},
   "outputs": [],
   "source": [
    "df = pd.read_excel('上海商户名单.xlsx') \n",
    "#使用绝对地址时在前面加r取消转义字符\n",
    "#pd.read_excel(r'C:\\Users\\Bugco\\Desktop\\python\\上海商户名单.xlsx')"
   ]
  },
  {
   "cell_type": "code",
   "execution_count": 21,
   "id": "cf2a5565",
   "metadata": {},
   "outputs": [
    {
     "data": {
      "text/html": [
       "<div>\n",
       "<style scoped>\n",
       "    .dataframe tbody tr th:only-of-type {\n",
       "        vertical-align: middle;\n",
       "    }\n",
       "\n",
       "    .dataframe tbody tr th {\n",
       "        vertical-align: top;\n",
       "    }\n",
       "\n",
       "    .dataframe thead th {\n",
       "        text-align: right;\n",
       "    }\n",
       "</style>\n",
       "<table border=\"1\" class=\"dataframe\">\n",
       "  <thead>\n",
       "    <tr style=\"text-align: right;\">\n",
       "      <th></th>\n",
       "      <th>版本</th>\n",
       "      <th>省份</th>\n",
       "      <th>城市</th>\n",
       "      <th>签约日期</th>\n",
       "      <th>月份</th>\n",
       "      <th>公司名称（合同名称全称）</th>\n",
       "    </tr>\n",
       "  </thead>\n",
       "  <tbody>\n",
       "    <tr>\n",
       "      <th>256</th>\n",
       "      <td>saas初级版</td>\n",
       "      <td>上海</td>\n",
       "      <td>上海</td>\n",
       "      <td>2020-03-31</td>\n",
       "      <td>3月</td>\n",
       "      <td>上海金丽丰房地产纪有限公司</td>\n",
       "    </tr>\n",
       "  </tbody>\n",
       "</table>\n",
       "</div>"
      ],
      "text/plain": [
       "          版本  省份  城市       签约日期  月份   公司名称（合同名称全称）\n",
       "256  saas初级版  上海  上海 2020-03-31  3月  上海金丽丰房地产纪有限公司"
      ]
     },
     "execution_count": 21,
     "metadata": {},
     "output_type": "execute_result"
    }
   ],
   "source": [
    "df.tail(1)"
   ]
  },
  {
   "cell_type": "markdown",
   "id": "71c66980",
   "metadata": {},
   "source": [
    "#### 行操作"
   ]
  },
  {
   "cell_type": "code",
   "execution_count": 22,
   "id": "6e4d1056",
   "metadata": {},
   "outputs": [
    {
     "data": {
      "text/plain": [
       "版本                          saas高级版\n",
       "省份                               上海\n",
       "城市                               上海\n",
       "签约日期            2020-02-10 00:00:00\n",
       "月份                              NaN\n",
       "公司名称（合同名称全称）            瑞安市喜迎门房屋介绍所\n",
       "Name: 0, dtype: object"
      ]
     },
     "execution_count": 22,
     "metadata": {},
     "output_type": "execute_result"
    }
   ],
   "source": [
    "df.iloc[0]"
   ]
  },
  {
   "cell_type": "code",
   "execution_count": 23,
   "id": "aece19a0",
   "metadata": {},
   "outputs": [
    {
     "data": {
      "text/html": [
       "<div>\n",
       "<style scoped>\n",
       "    .dataframe tbody tr th:only-of-type {\n",
       "        vertical-align: middle;\n",
       "    }\n",
       "\n",
       "    .dataframe tbody tr th {\n",
       "        vertical-align: top;\n",
       "    }\n",
       "\n",
       "    .dataframe thead th {\n",
       "        text-align: right;\n",
       "    }\n",
       "</style>\n",
       "<table border=\"1\" class=\"dataframe\">\n",
       "  <thead>\n",
       "    <tr style=\"text-align: right;\">\n",
       "      <th></th>\n",
       "      <th>版本</th>\n",
       "      <th>省份</th>\n",
       "      <th>城市</th>\n",
       "      <th>签约日期</th>\n",
       "      <th>月份</th>\n",
       "      <th>公司名称（合同名称全称）</th>\n",
       "    </tr>\n",
       "  </thead>\n",
       "  <tbody>\n",
       "    <tr>\n",
       "      <th>0</th>\n",
       "      <td>saas高级版</td>\n",
       "      <td>上海</td>\n",
       "      <td>上海</td>\n",
       "      <td>2020-02-10</td>\n",
       "      <td>NaN</td>\n",
       "      <td>瑞安市喜迎门房屋介绍所</td>\n",
       "    </tr>\n",
       "    <tr>\n",
       "      <th>1</th>\n",
       "      <td>saas初级版</td>\n",
       "      <td>上海</td>\n",
       "      <td>上海</td>\n",
       "      <td>2020-02-10</td>\n",
       "      <td>NaN</td>\n",
       "      <td>上海跃邻房地产经纪有限公司</td>\n",
       "    </tr>\n",
       "    <tr>\n",
       "      <th>2</th>\n",
       "      <td>saas初级版</td>\n",
       "      <td>上海</td>\n",
       "      <td>上海</td>\n",
       "      <td>2020-02-10</td>\n",
       "      <td>NaN</td>\n",
       "      <td>上海驿荣房地产经纪事务所</td>\n",
       "    </tr>\n",
       "    <tr>\n",
       "      <th>3</th>\n",
       "      <td>saas初级版</td>\n",
       "      <td>上海</td>\n",
       "      <td>上海</td>\n",
       "      <td>2020-02-10</td>\n",
       "      <td>NaN</td>\n",
       "      <td>上海多栖网络科技中心有限公司</td>\n",
       "    </tr>\n",
       "    <tr>\n",
       "      <th>4</th>\n",
       "      <td>saas初级版</td>\n",
       "      <td>上海</td>\n",
       "      <td>上海</td>\n",
       "      <td>2020-02-11</td>\n",
       "      <td>NaN</td>\n",
       "      <td>上海迁禧房地产营销策划有限公司宁波杭州湾新区分公司</td>\n",
       "    </tr>\n",
       "  </tbody>\n",
       "</table>\n",
       "</div>"
      ],
      "text/plain": [
       "        版本  省份  城市       签约日期   月份               公司名称（合同名称全称）\n",
       "0  saas高级版  上海  上海 2020-02-10  NaN                瑞安市喜迎门房屋介绍所\n",
       "1  saas初级版  上海  上海 2020-02-10  NaN              上海跃邻房地产经纪有限公司\n",
       "2  saas初级版  上海  上海 2020-02-10  NaN               上海驿荣房地产经纪事务所\n",
       "3  saas初级版  上海  上海 2020-02-10  NaN             上海多栖网络科技中心有限公司\n",
       "4  saas初级版  上海  上海 2020-02-11  NaN  上海迁禧房地产营销策划有限公司宁波杭州湾新区分公司"
      ]
     },
     "execution_count": 23,
     "metadata": {},
     "output_type": "execute_result"
    }
   ],
   "source": [
    "df.iloc[0:5]"
   ]
  },
  {
   "cell_type": "code",
   "execution_count": 24,
   "id": "5d85e517",
   "metadata": {},
   "outputs": [
    {
     "data": {
      "text/html": [
       "<div>\n",
       "<style scoped>\n",
       "    .dataframe tbody tr th:only-of-type {\n",
       "        vertical-align: middle;\n",
       "    }\n",
       "\n",
       "    .dataframe tbody tr th {\n",
       "        vertical-align: top;\n",
       "    }\n",
       "\n",
       "    .dataframe thead th {\n",
       "        text-align: right;\n",
       "    }\n",
       "</style>\n",
       "<table border=\"1\" class=\"dataframe\">\n",
       "  <thead>\n",
       "    <tr style=\"text-align: right;\">\n",
       "      <th></th>\n",
       "      <th>版本</th>\n",
       "      <th>省份</th>\n",
       "      <th>城市</th>\n",
       "      <th>签约日期</th>\n",
       "      <th>月份</th>\n",
       "      <th>公司名称（合同名称全称）</th>\n",
       "    </tr>\n",
       "  </thead>\n",
       "  <tbody>\n",
       "    <tr>\n",
       "      <th>0</th>\n",
       "      <td>saas高级版</td>\n",
       "      <td>上海</td>\n",
       "      <td>上海</td>\n",
       "      <td>2020-02-10</td>\n",
       "      <td>NaN</td>\n",
       "      <td>瑞安市喜迎门房屋介绍所</td>\n",
       "    </tr>\n",
       "    <tr>\n",
       "      <th>1</th>\n",
       "      <td>saas初级版</td>\n",
       "      <td>上海</td>\n",
       "      <td>上海</td>\n",
       "      <td>2020-02-10</td>\n",
       "      <td>NaN</td>\n",
       "      <td>上海跃邻房地产经纪有限公司</td>\n",
       "    </tr>\n",
       "    <tr>\n",
       "      <th>2</th>\n",
       "      <td>saas初级版</td>\n",
       "      <td>上海</td>\n",
       "      <td>上海</td>\n",
       "      <td>2020-02-10</td>\n",
       "      <td>NaN</td>\n",
       "      <td>上海驿荣房地产经纪事务所</td>\n",
       "    </tr>\n",
       "    <tr>\n",
       "      <th>3</th>\n",
       "      <td>saas初级版</td>\n",
       "      <td>上海</td>\n",
       "      <td>上海</td>\n",
       "      <td>2020-02-10</td>\n",
       "      <td>NaN</td>\n",
       "      <td>上海多栖网络科技中心有限公司</td>\n",
       "    </tr>\n",
       "    <tr>\n",
       "      <th>4</th>\n",
       "      <td>saas初级版</td>\n",
       "      <td>上海</td>\n",
       "      <td>上海</td>\n",
       "      <td>2020-02-11</td>\n",
       "      <td>NaN</td>\n",
       "      <td>上海迁禧房地产营销策划有限公司宁波杭州湾新区分公司</td>\n",
       "    </tr>\n",
       "    <tr>\n",
       "      <th>5</th>\n",
       "      <td>saas初级版</td>\n",
       "      <td>上海</td>\n",
       "      <td>上海</td>\n",
       "      <td>2020-02-11</td>\n",
       "      <td>NaN</td>\n",
       "      <td>上海象羡房地产经纪有限公司</td>\n",
       "    </tr>\n",
       "  </tbody>\n",
       "</table>\n",
       "</div>"
      ],
      "text/plain": [
       "        版本  省份  城市       签约日期   月份               公司名称（合同名称全称）\n",
       "0  saas高级版  上海  上海 2020-02-10  NaN                瑞安市喜迎门房屋介绍所\n",
       "1  saas初级版  上海  上海 2020-02-10  NaN              上海跃邻房地产经纪有限公司\n",
       "2  saas初级版  上海  上海 2020-02-10  NaN               上海驿荣房地产经纪事务所\n",
       "3  saas初级版  上海  上海 2020-02-10  NaN             上海多栖网络科技中心有限公司\n",
       "4  saas初级版  上海  上海 2020-02-11  NaN  上海迁禧房地产营销策划有限公司宁波杭州湾新区分公司\n",
       "5  saas初级版  上海  上海 2020-02-11  NaN              上海象羡房地产经纪有限公司"
      ]
     },
     "execution_count": 24,
     "metadata": {},
     "output_type": "execute_result"
    }
   ],
   "source": [
    "df.loc[0:5]"
   ]
  },
  {
   "cell_type": "markdown",
   "id": "9e1c2b5e",
   "metadata": {},
   "source": [
    "## 修改数据\n",
    "#### 添加一行"
   ]
  },
  {
   "cell_type": "code",
   "execution_count": 25,
   "id": "99ba02f2",
   "metadata": {},
   "outputs": [],
   "source": [
    "dit = {'版本':'新增版',\n",
    "      '省份':'上海',\n",
    "      '城市':'上海',\n",
    "      '签约日期':'20220520',\n",
    "      '月份':'',\n",
    "      '公司名称（合同名称全称）':'新增门店'}"
   ]
  },
  {
   "cell_type": "code",
   "execution_count": 26,
   "id": "5c97f3c5",
   "metadata": {},
   "outputs": [
    {
     "data": {
      "text/plain": [
       "版本                   新增版\n",
       "省份                    上海\n",
       "城市                    上海\n",
       "签约日期            20220520\n",
       "月份                      \n",
       "公司名称（合同名称全称）        新增门店\n",
       "Name: 257, dtype: object"
      ]
     },
     "execution_count": 26,
     "metadata": {},
     "output_type": "execute_result"
    }
   ],
   "source": [
    "s=pd.Series(dit)\n",
    "s.name=257\n",
    "s"
   ]
  },
  {
   "cell_type": "code",
   "execution_count": 27,
   "id": "352466e9",
   "metadata": {},
   "outputs": [
    {
     "name": "stderr",
     "output_type": "stream",
     "text": [
      "C:\\Users\\Bugco\\AppData\\Local\\Temp\\ipykernel_11024\\2845147052.py:1: FutureWarning: The frame.append method is deprecated and will be removed from pandas in a future version. Use pandas.concat instead.\n",
      "  df = df.append(s)\n"
     ]
    },
    {
     "data": {
      "text/html": [
       "<div>\n",
       "<style scoped>\n",
       "    .dataframe tbody tr th:only-of-type {\n",
       "        vertical-align: middle;\n",
       "    }\n",
       "\n",
       "    .dataframe tbody tr th {\n",
       "        vertical-align: top;\n",
       "    }\n",
       "\n",
       "    .dataframe thead th {\n",
       "        text-align: right;\n",
       "    }\n",
       "</style>\n",
       "<table border=\"1\" class=\"dataframe\">\n",
       "  <thead>\n",
       "    <tr style=\"text-align: right;\">\n",
       "      <th></th>\n",
       "      <th>版本</th>\n",
       "      <th>省份</th>\n",
       "      <th>城市</th>\n",
       "      <th>签约日期</th>\n",
       "      <th>月份</th>\n",
       "      <th>公司名称（合同名称全称）</th>\n",
       "    </tr>\n",
       "  </thead>\n",
       "  <tbody>\n",
       "    <tr>\n",
       "      <th>253</th>\n",
       "      <td>saas初级版</td>\n",
       "      <td>上海</td>\n",
       "      <td>上海</td>\n",
       "      <td>2020-03-30 00:00:00</td>\n",
       "      <td>3月</td>\n",
       "      <td>上海盛鸿房地产经纪事务所</td>\n",
       "    </tr>\n",
       "    <tr>\n",
       "      <th>254</th>\n",
       "      <td>saas初级版</td>\n",
       "      <td>上海</td>\n",
       "      <td>上海</td>\n",
       "      <td>2020-03-30 00:00:00</td>\n",
       "      <td>3月</td>\n",
       "      <td>上海敞淳房产经纪有限公司</td>\n",
       "    </tr>\n",
       "    <tr>\n",
       "      <th>255</th>\n",
       "      <td>saas初级版</td>\n",
       "      <td>上海</td>\n",
       "      <td>上海</td>\n",
       "      <td>2020-03-30 00:00:00</td>\n",
       "      <td>3月</td>\n",
       "      <td>上海嘉丞房地产经纪有限公司</td>\n",
       "    </tr>\n",
       "    <tr>\n",
       "      <th>256</th>\n",
       "      <td>saas初级版</td>\n",
       "      <td>上海</td>\n",
       "      <td>上海</td>\n",
       "      <td>2020-03-31 00:00:00</td>\n",
       "      <td>3月</td>\n",
       "      <td>上海金丽丰房地产纪有限公司</td>\n",
       "    </tr>\n",
       "    <tr>\n",
       "      <th>257</th>\n",
       "      <td>新增版</td>\n",
       "      <td>上海</td>\n",
       "      <td>上海</td>\n",
       "      <td>20220520</td>\n",
       "      <td></td>\n",
       "      <td>新增门店</td>\n",
       "    </tr>\n",
       "  </tbody>\n",
       "</table>\n",
       "</div>"
      ],
      "text/plain": [
       "          版本  省份  城市                 签约日期  月份   公司名称（合同名称全称）\n",
       "253  saas初级版  上海  上海  2020-03-30 00:00:00  3月   上海盛鸿房地产经纪事务所\n",
       "254  saas初级版  上海  上海  2020-03-30 00:00:00  3月   上海敞淳房产经纪有限公司\n",
       "255  saas初级版  上海  上海  2020-03-30 00:00:00  3月  上海嘉丞房地产经纪有限公司\n",
       "256  saas初级版  上海  上海  2020-03-31 00:00:00  3月  上海金丽丰房地产纪有限公司\n",
       "257      新增版  上海  上海             20220520               新增门店"
      ]
     },
     "execution_count": 27,
     "metadata": {},
     "output_type": "execute_result"
    }
   ],
   "source": [
    "df = df.append(s)\n",
    "df.tail(5)"
   ]
  },
  {
   "cell_type": "code",
   "execution_count": 28,
   "id": "0cbd45c4",
   "metadata": {},
   "outputs": [],
   "source": [
    "#### 删除一行"
   ]
  },
  {
   "cell_type": "code",
   "execution_count": 29,
   "id": "1060b72b",
   "metadata": {},
   "outputs": [],
   "source": [
    "df = df.drop([257])"
   ]
  },
  {
   "cell_type": "code",
   "execution_count": 30,
   "id": "81e02dbf",
   "metadata": {},
   "outputs": [
    {
     "data": {
      "text/html": [
       "<div>\n",
       "<style scoped>\n",
       "    .dataframe tbody tr th:only-of-type {\n",
       "        vertical-align: middle;\n",
       "    }\n",
       "\n",
       "    .dataframe tbody tr th {\n",
       "        vertical-align: top;\n",
       "    }\n",
       "\n",
       "    .dataframe thead th {\n",
       "        text-align: right;\n",
       "    }\n",
       "</style>\n",
       "<table border=\"1\" class=\"dataframe\">\n",
       "  <thead>\n",
       "    <tr style=\"text-align: right;\">\n",
       "      <th></th>\n",
       "      <th>版本</th>\n",
       "      <th>省份</th>\n",
       "      <th>城市</th>\n",
       "      <th>签约日期</th>\n",
       "      <th>月份</th>\n",
       "      <th>公司名称（合同名称全称）</th>\n",
       "    </tr>\n",
       "  </thead>\n",
       "  <tbody>\n",
       "    <tr>\n",
       "      <th>252</th>\n",
       "      <td>saas初级版</td>\n",
       "      <td>上海</td>\n",
       "      <td>上海</td>\n",
       "      <td>2020-03-30 00:00:00</td>\n",
       "      <td>3月</td>\n",
       "      <td>上海承义房地产经纪有限公司</td>\n",
       "    </tr>\n",
       "    <tr>\n",
       "      <th>253</th>\n",
       "      <td>saas初级版</td>\n",
       "      <td>上海</td>\n",
       "      <td>上海</td>\n",
       "      <td>2020-03-30 00:00:00</td>\n",
       "      <td>3月</td>\n",
       "      <td>上海盛鸿房地产经纪事务所</td>\n",
       "    </tr>\n",
       "    <tr>\n",
       "      <th>254</th>\n",
       "      <td>saas初级版</td>\n",
       "      <td>上海</td>\n",
       "      <td>上海</td>\n",
       "      <td>2020-03-30 00:00:00</td>\n",
       "      <td>3月</td>\n",
       "      <td>上海敞淳房产经纪有限公司</td>\n",
       "    </tr>\n",
       "    <tr>\n",
       "      <th>255</th>\n",
       "      <td>saas初级版</td>\n",
       "      <td>上海</td>\n",
       "      <td>上海</td>\n",
       "      <td>2020-03-30 00:00:00</td>\n",
       "      <td>3月</td>\n",
       "      <td>上海嘉丞房地产经纪有限公司</td>\n",
       "    </tr>\n",
       "    <tr>\n",
       "      <th>256</th>\n",
       "      <td>saas初级版</td>\n",
       "      <td>上海</td>\n",
       "      <td>上海</td>\n",
       "      <td>2020-03-31 00:00:00</td>\n",
       "      <td>3月</td>\n",
       "      <td>上海金丽丰房地产纪有限公司</td>\n",
       "    </tr>\n",
       "  </tbody>\n",
       "</table>\n",
       "</div>"
      ],
      "text/plain": [
       "          版本  省份  城市                 签约日期  月份   公司名称（合同名称全称）\n",
       "252  saas初级版  上海  上海  2020-03-30 00:00:00  3月  上海承义房地产经纪有限公司\n",
       "253  saas初级版  上海  上海  2020-03-30 00:00:00  3月   上海盛鸿房地产经纪事务所\n",
       "254  saas初级版  上海  上海  2020-03-30 00:00:00  3月   上海敞淳房产经纪有限公司\n",
       "255  saas初级版  上海  上海  2020-03-30 00:00:00  3月  上海嘉丞房地产经纪有限公司\n",
       "256  saas初级版  上海  上海  2020-03-31 00:00:00  3月  上海金丽丰房地产纪有限公司"
      ]
     },
     "execution_count": 30,
     "metadata": {},
     "output_type": "execute_result"
    }
   ],
   "source": [
    "df.tail()"
   ]
  },
  {
   "cell_type": "markdown",
   "id": "b18d5965",
   "metadata": {},
   "source": [
    "### 列操作"
   ]
  },
  {
   "cell_type": "code",
   "execution_count": 31,
   "id": "e938afca",
   "metadata": {},
   "outputs": [
    {
     "data": {
      "text/plain": [
       "Index(['版本', '省份', '城市', '签约日期', '月份', '公司名称（合同名称全称）'], dtype='object')"
      ]
     },
     "execution_count": 31,
     "metadata": {},
     "output_type": "execute_result"
    }
   ],
   "source": [
    "df.columns"
   ]
  },
  {
   "cell_type": "code",
   "execution_count": 32,
   "id": "afc3fd2d",
   "metadata": {},
   "outputs": [
    {
     "data": {
      "text/plain": [
       "0    saas高级版\n",
       "1    saas初级版\n",
       "2    saas初级版\n",
       "3    saas初级版\n",
       "4    saas初级版\n",
       "Name: 版本, dtype: object"
      ]
     },
     "execution_count": 32,
     "metadata": {},
     "output_type": "execute_result"
    }
   ],
   "source": [
    "df['版本'][0:5]"
   ]
  },
  {
   "cell_type": "code",
   "execution_count": 33,
   "id": "6534f8a1",
   "metadata": {},
   "outputs": [
    {
     "data": {
      "text/html": [
       "<div>\n",
       "<style scoped>\n",
       "    .dataframe tbody tr th:only-of-type {\n",
       "        vertical-align: middle;\n",
       "    }\n",
       "\n",
       "    .dataframe tbody tr th {\n",
       "        vertical-align: top;\n",
       "    }\n",
       "\n",
       "    .dataframe thead th {\n",
       "        text-align: right;\n",
       "    }\n",
       "</style>\n",
       "<table border=\"1\" class=\"dataframe\">\n",
       "  <thead>\n",
       "    <tr style=\"text-align: right;\">\n",
       "      <th></th>\n",
       "      <th>版本</th>\n",
       "      <th>省份</th>\n",
       "    </tr>\n",
       "  </thead>\n",
       "  <tbody>\n",
       "    <tr>\n",
       "      <th>0</th>\n",
       "      <td>saas高级版</td>\n",
       "      <td>上海</td>\n",
       "    </tr>\n",
       "    <tr>\n",
       "      <th>1</th>\n",
       "      <td>saas初级版</td>\n",
       "      <td>上海</td>\n",
       "    </tr>\n",
       "    <tr>\n",
       "      <th>2</th>\n",
       "      <td>saas初级版</td>\n",
       "      <td>上海</td>\n",
       "    </tr>\n",
       "    <tr>\n",
       "      <th>3</th>\n",
       "      <td>saas初级版</td>\n",
       "      <td>上海</td>\n",
       "    </tr>\n",
       "    <tr>\n",
       "      <th>4</th>\n",
       "      <td>saas初级版</td>\n",
       "      <td>上海</td>\n",
       "    </tr>\n",
       "  </tbody>\n",
       "</table>\n",
       "</div>"
      ],
      "text/plain": [
       "        版本  省份\n",
       "0  saas高级版  上海\n",
       "1  saas初级版  上海\n",
       "2  saas初级版  上海\n",
       "3  saas初级版  上海\n",
       "4  saas初级版  上海"
      ]
     },
     "execution_count": 33,
     "metadata": {},
     "output_type": "execute_result"
    }
   ],
   "source": [
    "df[['版本','省份']][:5]"
   ]
  },
  {
   "cell_type": "markdown",
   "id": "32c95056",
   "metadata": {},
   "source": [
    "#### 增加一列"
   ]
  },
  {
   "cell_type": "code",
   "execution_count": 34,
   "id": "ab78076c",
   "metadata": {},
   "outputs": [
    {
     "data": {
      "text/html": [
       "<div>\n",
       "<style scoped>\n",
       "    .dataframe tbody tr th:only-of-type {\n",
       "        vertical-align: middle;\n",
       "    }\n",
       "\n",
       "    .dataframe tbody tr th {\n",
       "        vertical-align: top;\n",
       "    }\n",
       "\n",
       "    .dataframe thead th {\n",
       "        text-align: right;\n",
       "    }\n",
       "</style>\n",
       "<table border=\"1\" class=\"dataframe\">\n",
       "  <thead>\n",
       "    <tr style=\"text-align: right;\">\n",
       "      <th></th>\n",
       "      <th>版本</th>\n",
       "      <th>省份</th>\n",
       "      <th>城市</th>\n",
       "      <th>签约日期</th>\n",
       "      <th>月份</th>\n",
       "      <th>公司名称（合同名称全称）</th>\n",
       "      <th>门店ID</th>\n",
       "    </tr>\n",
       "  </thead>\n",
       "  <tbody>\n",
       "    <tr>\n",
       "      <th>0</th>\n",
       "      <td>saas高级版</td>\n",
       "      <td>上海</td>\n",
       "      <td>上海</td>\n",
       "      <td>2020-02-10 00:00:00</td>\n",
       "      <td>NaN</td>\n",
       "      <td>瑞安市喜迎门房屋介绍所</td>\n",
       "      <td>1</td>\n",
       "    </tr>\n",
       "    <tr>\n",
       "      <th>1</th>\n",
       "      <td>saas初级版</td>\n",
       "      <td>上海</td>\n",
       "      <td>上海</td>\n",
       "      <td>2020-02-10 00:00:00</td>\n",
       "      <td>NaN</td>\n",
       "      <td>上海跃邻房地产经纪有限公司</td>\n",
       "      <td>2</td>\n",
       "    </tr>\n",
       "    <tr>\n",
       "      <th>2</th>\n",
       "      <td>saas初级版</td>\n",
       "      <td>上海</td>\n",
       "      <td>上海</td>\n",
       "      <td>2020-02-10 00:00:00</td>\n",
       "      <td>NaN</td>\n",
       "      <td>上海驿荣房地产经纪事务所</td>\n",
       "      <td>3</td>\n",
       "    </tr>\n",
       "    <tr>\n",
       "      <th>3</th>\n",
       "      <td>saas初级版</td>\n",
       "      <td>上海</td>\n",
       "      <td>上海</td>\n",
       "      <td>2020-02-10 00:00:00</td>\n",
       "      <td>NaN</td>\n",
       "      <td>上海多栖网络科技中心有限公司</td>\n",
       "      <td>4</td>\n",
       "    </tr>\n",
       "    <tr>\n",
       "      <th>4</th>\n",
       "      <td>saas初级版</td>\n",
       "      <td>上海</td>\n",
       "      <td>上海</td>\n",
       "      <td>2020-02-11 00:00:00</td>\n",
       "      <td>NaN</td>\n",
       "      <td>上海迁禧房地产营销策划有限公司宁波杭州湾新区分公司</td>\n",
       "      <td>5</td>\n",
       "    </tr>\n",
       "    <tr>\n",
       "      <th>...</th>\n",
       "      <td>...</td>\n",
       "      <td>...</td>\n",
       "      <td>...</td>\n",
       "      <td>...</td>\n",
       "      <td>...</td>\n",
       "      <td>...</td>\n",
       "      <td>...</td>\n",
       "    </tr>\n",
       "    <tr>\n",
       "      <th>252</th>\n",
       "      <td>saas初级版</td>\n",
       "      <td>上海</td>\n",
       "      <td>上海</td>\n",
       "      <td>2020-03-30 00:00:00</td>\n",
       "      <td>3月</td>\n",
       "      <td>上海承义房地产经纪有限公司</td>\n",
       "      <td>253</td>\n",
       "    </tr>\n",
       "    <tr>\n",
       "      <th>253</th>\n",
       "      <td>saas初级版</td>\n",
       "      <td>上海</td>\n",
       "      <td>上海</td>\n",
       "      <td>2020-03-30 00:00:00</td>\n",
       "      <td>3月</td>\n",
       "      <td>上海盛鸿房地产经纪事务所</td>\n",
       "      <td>254</td>\n",
       "    </tr>\n",
       "    <tr>\n",
       "      <th>254</th>\n",
       "      <td>saas初级版</td>\n",
       "      <td>上海</td>\n",
       "      <td>上海</td>\n",
       "      <td>2020-03-30 00:00:00</td>\n",
       "      <td>3月</td>\n",
       "      <td>上海敞淳房产经纪有限公司</td>\n",
       "      <td>255</td>\n",
       "    </tr>\n",
       "    <tr>\n",
       "      <th>255</th>\n",
       "      <td>saas初级版</td>\n",
       "      <td>上海</td>\n",
       "      <td>上海</td>\n",
       "      <td>2020-03-30 00:00:00</td>\n",
       "      <td>3月</td>\n",
       "      <td>上海嘉丞房地产经纪有限公司</td>\n",
       "      <td>256</td>\n",
       "    </tr>\n",
       "    <tr>\n",
       "      <th>256</th>\n",
       "      <td>saas初级版</td>\n",
       "      <td>上海</td>\n",
       "      <td>上海</td>\n",
       "      <td>2020-03-31 00:00:00</td>\n",
       "      <td>3月</td>\n",
       "      <td>上海金丽丰房地产纪有限公司</td>\n",
       "      <td>257</td>\n",
       "    </tr>\n",
       "  </tbody>\n",
       "</table>\n",
       "<p>257 rows × 7 columns</p>\n",
       "</div>"
      ],
      "text/plain": [
       "          版本  省份  城市                 签约日期   月份               公司名称（合同名称全称）  \\\n",
       "0    saas高级版  上海  上海  2020-02-10 00:00:00  NaN                瑞安市喜迎门房屋介绍所   \n",
       "1    saas初级版  上海  上海  2020-02-10 00:00:00  NaN              上海跃邻房地产经纪有限公司   \n",
       "2    saas初级版  上海  上海  2020-02-10 00:00:00  NaN               上海驿荣房地产经纪事务所   \n",
       "3    saas初级版  上海  上海  2020-02-10 00:00:00  NaN             上海多栖网络科技中心有限公司   \n",
       "4    saas初级版  上海  上海  2020-02-11 00:00:00  NaN  上海迁禧房地产营销策划有限公司宁波杭州湾新区分公司   \n",
       "..       ...  ..  ..                  ...  ...                        ...   \n",
       "252  saas初级版  上海  上海  2020-03-30 00:00:00   3月              上海承义房地产经纪有限公司   \n",
       "253  saas初级版  上海  上海  2020-03-30 00:00:00   3月               上海盛鸿房地产经纪事务所   \n",
       "254  saas初级版  上海  上海  2020-03-30 00:00:00   3月               上海敞淳房产经纪有限公司   \n",
       "255  saas初级版  上海  上海  2020-03-30 00:00:00   3月              上海嘉丞房地产经纪有限公司   \n",
       "256  saas初级版  上海  上海  2020-03-31 00:00:00   3月              上海金丽丰房地产纪有限公司   \n",
       "\n",
       "     门店ID  \n",
       "0       1  \n",
       "1       2  \n",
       "2       3  \n",
       "3       4  \n",
       "4       5  \n",
       "..    ...  \n",
       "252   253  \n",
       "253   254  \n",
       "254   255  \n",
       "255   256  \n",
       "256   257  \n",
       "\n",
       "[257 rows x 7 columns]"
      ]
     },
     "execution_count": 34,
     "metadata": {},
     "output_type": "execute_result"
    }
   ],
   "source": [
    "df['门店ID']=range(1,len(df)+1)\n",
    "df"
   ]
  },
  {
   "cell_type": "markdown",
   "id": "eba059f6",
   "metadata": {},
   "source": [
    "#### 删除一列"
   ]
  },
  {
   "cell_type": "code",
   "execution_count": 35,
   "id": "42f4e930",
   "metadata": {},
   "outputs": [
    {
     "data": {
      "text/html": [
       "<div>\n",
       "<style scoped>\n",
       "    .dataframe tbody tr th:only-of-type {\n",
       "        vertical-align: middle;\n",
       "    }\n",
       "\n",
       "    .dataframe tbody tr th {\n",
       "        vertical-align: top;\n",
       "    }\n",
       "\n",
       "    .dataframe thead th {\n",
       "        text-align: right;\n",
       "    }\n",
       "</style>\n",
       "<table border=\"1\" class=\"dataframe\">\n",
       "  <thead>\n",
       "    <tr style=\"text-align: right;\">\n",
       "      <th></th>\n",
       "      <th>版本</th>\n",
       "      <th>省份</th>\n",
       "      <th>城市</th>\n",
       "      <th>签约日期</th>\n",
       "      <th>月份</th>\n",
       "      <th>公司名称（合同名称全称）</th>\n",
       "    </tr>\n",
       "  </thead>\n",
       "  <tbody>\n",
       "    <tr>\n",
       "      <th>0</th>\n",
       "      <td>saas高级版</td>\n",
       "      <td>上海</td>\n",
       "      <td>上海</td>\n",
       "      <td>2020-02-10 00:00:00</td>\n",
       "      <td>NaN</td>\n",
       "      <td>瑞安市喜迎门房屋介绍所</td>\n",
       "    </tr>\n",
       "    <tr>\n",
       "      <th>1</th>\n",
       "      <td>saas初级版</td>\n",
       "      <td>上海</td>\n",
       "      <td>上海</td>\n",
       "      <td>2020-02-10 00:00:00</td>\n",
       "      <td>NaN</td>\n",
       "      <td>上海跃邻房地产经纪有限公司</td>\n",
       "    </tr>\n",
       "    <tr>\n",
       "      <th>2</th>\n",
       "      <td>saas初级版</td>\n",
       "      <td>上海</td>\n",
       "      <td>上海</td>\n",
       "      <td>2020-02-10 00:00:00</td>\n",
       "      <td>NaN</td>\n",
       "      <td>上海驿荣房地产经纪事务所</td>\n",
       "    </tr>\n",
       "    <tr>\n",
       "      <th>3</th>\n",
       "      <td>saas初级版</td>\n",
       "      <td>上海</td>\n",
       "      <td>上海</td>\n",
       "      <td>2020-02-10 00:00:00</td>\n",
       "      <td>NaN</td>\n",
       "      <td>上海多栖网络科技中心有限公司</td>\n",
       "    </tr>\n",
       "    <tr>\n",
       "      <th>4</th>\n",
       "      <td>saas初级版</td>\n",
       "      <td>上海</td>\n",
       "      <td>上海</td>\n",
       "      <td>2020-02-11 00:00:00</td>\n",
       "      <td>NaN</td>\n",
       "      <td>上海迁禧房地产营销策划有限公司宁波杭州湾新区分公司</td>\n",
       "    </tr>\n",
       "    <tr>\n",
       "      <th>...</th>\n",
       "      <td>...</td>\n",
       "      <td>...</td>\n",
       "      <td>...</td>\n",
       "      <td>...</td>\n",
       "      <td>...</td>\n",
       "      <td>...</td>\n",
       "    </tr>\n",
       "    <tr>\n",
       "      <th>252</th>\n",
       "      <td>saas初级版</td>\n",
       "      <td>上海</td>\n",
       "      <td>上海</td>\n",
       "      <td>2020-03-30 00:00:00</td>\n",
       "      <td>3月</td>\n",
       "      <td>上海承义房地产经纪有限公司</td>\n",
       "    </tr>\n",
       "    <tr>\n",
       "      <th>253</th>\n",
       "      <td>saas初级版</td>\n",
       "      <td>上海</td>\n",
       "      <td>上海</td>\n",
       "      <td>2020-03-30 00:00:00</td>\n",
       "      <td>3月</td>\n",
       "      <td>上海盛鸿房地产经纪事务所</td>\n",
       "    </tr>\n",
       "    <tr>\n",
       "      <th>254</th>\n",
       "      <td>saas初级版</td>\n",
       "      <td>上海</td>\n",
       "      <td>上海</td>\n",
       "      <td>2020-03-30 00:00:00</td>\n",
       "      <td>3月</td>\n",
       "      <td>上海敞淳房产经纪有限公司</td>\n",
       "    </tr>\n",
       "    <tr>\n",
       "      <th>255</th>\n",
       "      <td>saas初级版</td>\n",
       "      <td>上海</td>\n",
       "      <td>上海</td>\n",
       "      <td>2020-03-30 00:00:00</td>\n",
       "      <td>3月</td>\n",
       "      <td>上海嘉丞房地产经纪有限公司</td>\n",
       "    </tr>\n",
       "    <tr>\n",
       "      <th>256</th>\n",
       "      <td>saas初级版</td>\n",
       "      <td>上海</td>\n",
       "      <td>上海</td>\n",
       "      <td>2020-03-31 00:00:00</td>\n",
       "      <td>3月</td>\n",
       "      <td>上海金丽丰房地产纪有限公司</td>\n",
       "    </tr>\n",
       "  </tbody>\n",
       "</table>\n",
       "<p>257 rows × 6 columns</p>\n",
       "</div>"
      ],
      "text/plain": [
       "          版本  省份  城市                 签约日期   月份               公司名称（合同名称全称）\n",
       "0    saas高级版  上海  上海  2020-02-10 00:00:00  NaN                瑞安市喜迎门房屋介绍所\n",
       "1    saas初级版  上海  上海  2020-02-10 00:00:00  NaN              上海跃邻房地产经纪有限公司\n",
       "2    saas初级版  上海  上海  2020-02-10 00:00:00  NaN               上海驿荣房地产经纪事务所\n",
       "3    saas初级版  上海  上海  2020-02-10 00:00:00  NaN             上海多栖网络科技中心有限公司\n",
       "4    saas初级版  上海  上海  2020-02-11 00:00:00  NaN  上海迁禧房地产营销策划有限公司宁波杭州湾新区分公司\n",
       "..       ...  ..  ..                  ...  ...                        ...\n",
       "252  saas初级版  上海  上海  2020-03-30 00:00:00   3月              上海承义房地产经纪有限公司\n",
       "253  saas初级版  上海  上海  2020-03-30 00:00:00   3月               上海盛鸿房地产经纪事务所\n",
       "254  saas初级版  上海  上海  2020-03-30 00:00:00   3月               上海敞淳房产经纪有限公司\n",
       "255  saas初级版  上海  上海  2020-03-30 00:00:00   3月              上海嘉丞房地产经纪有限公司\n",
       "256  saas初级版  上海  上海  2020-03-31 00:00:00   3月              上海金丽丰房地产纪有限公司\n",
       "\n",
       "[257 rows x 6 columns]"
      ]
     },
     "execution_count": 35,
     "metadata": {},
     "output_type": "execute_result"
    }
   ],
   "source": [
    "df = df.drop('门店ID',axis =1)\n",
    "df"
   ]
  },
  {
   "cell_type": "markdown",
   "id": "87ba0c20",
   "metadata": {},
   "source": [
    "#### 通过标签选择数据"
   ]
  },
  {
   "cell_type": "code",
   "execution_count": 36,
   "id": "28a717cc",
   "metadata": {},
   "outputs": [
    {
     "data": {
      "text/plain": [
       "'saas初级版'"
      ]
     },
     "execution_count": 36,
     "metadata": {},
     "output_type": "execute_result"
    }
   ],
   "source": [
    "df.loc[1,'版本']"
   ]
  },
  {
   "cell_type": "code",
   "execution_count": 37,
   "id": "ef51863d",
   "metadata": {},
   "outputs": [
    {
     "data": {
      "text/html": [
       "<div>\n",
       "<style scoped>\n",
       "    .dataframe tbody tr th:only-of-type {\n",
       "        vertical-align: middle;\n",
       "    }\n",
       "\n",
       "    .dataframe tbody tr th {\n",
       "        vertical-align: top;\n",
       "    }\n",
       "\n",
       "    .dataframe thead th {\n",
       "        text-align: right;\n",
       "    }\n",
       "</style>\n",
       "<table border=\"1\" class=\"dataframe\">\n",
       "  <thead>\n",
       "    <tr style=\"text-align: right;\">\n",
       "      <th></th>\n",
       "      <th>版本</th>\n",
       "      <th>城市</th>\n",
       "    </tr>\n",
       "  </thead>\n",
       "  <tbody>\n",
       "    <tr>\n",
       "      <th>1</th>\n",
       "      <td>saas初级版</td>\n",
       "      <td>上海</td>\n",
       "    </tr>\n",
       "    <tr>\n",
       "      <th>3</th>\n",
       "      <td>saas初级版</td>\n",
       "      <td>上海</td>\n",
       "    </tr>\n",
       "    <tr>\n",
       "      <th>4</th>\n",
       "      <td>saas初级版</td>\n",
       "      <td>上海</td>\n",
       "    </tr>\n",
       "    <tr>\n",
       "      <th>6</th>\n",
       "      <td>saas初级版</td>\n",
       "      <td>上海</td>\n",
       "    </tr>\n",
       "  </tbody>\n",
       "</table>\n",
       "</div>"
      ],
      "text/plain": [
       "        版本  城市\n",
       "1  saas初级版  上海\n",
       "3  saas初级版  上海\n",
       "4  saas初级版  上海\n",
       "6  saas初级版  上海"
      ]
     },
     "execution_count": 37,
     "metadata": {},
     "output_type": "execute_result"
    }
   ],
   "source": [
    "df.loc[[1,3,4,6],['版本','城市']]"
   ]
  },
  {
   "cell_type": "markdown",
   "id": "a8ac8581",
   "metadata": {},
   "source": [
    "#### 筛选条件\n",
    "df[df['列名'] == 条件][范围]"
   ]
  },
  {
   "cell_type": "code",
   "execution_count": 38,
   "id": "82976184",
   "metadata": {},
   "outputs": [
    {
     "data": {
      "text/html": [
       "<div>\n",
       "<style scoped>\n",
       "    .dataframe tbody tr th:only-of-type {\n",
       "        vertical-align: middle;\n",
       "    }\n",
       "\n",
       "    .dataframe tbody tr th {\n",
       "        vertical-align: top;\n",
       "    }\n",
       "\n",
       "    .dataframe thead th {\n",
       "        text-align: right;\n",
       "    }\n",
       "</style>\n",
       "<table border=\"1\" class=\"dataframe\">\n",
       "  <thead>\n",
       "    <tr style=\"text-align: right;\">\n",
       "      <th></th>\n",
       "      <th>版本</th>\n",
       "      <th>省份</th>\n",
       "      <th>城市</th>\n",
       "      <th>签约日期</th>\n",
       "      <th>月份</th>\n",
       "      <th>公司名称（合同名称全称）</th>\n",
       "    </tr>\n",
       "  </thead>\n",
       "  <tbody>\n",
       "    <tr>\n",
       "      <th>0</th>\n",
       "      <td>saas高级版</td>\n",
       "      <td>上海</td>\n",
       "      <td>上海</td>\n",
       "      <td>2020-02-10 00:00:00</td>\n",
       "      <td>NaN</td>\n",
       "      <td>瑞安市喜迎门房屋介绍所</td>\n",
       "    </tr>\n",
       "    <tr>\n",
       "      <th>14</th>\n",
       "      <td>saas高级版</td>\n",
       "      <td>上海</td>\n",
       "      <td>上海</td>\n",
       "      <td>2020-02-12 00:00:00</td>\n",
       "      <td>NaN</td>\n",
       "      <td>上海曦惠房地产经纪事务所</td>\n",
       "    </tr>\n",
       "    <tr>\n",
       "      <th>22</th>\n",
       "      <td>saas高级版</td>\n",
       "      <td>上海</td>\n",
       "      <td>上海</td>\n",
       "      <td>2020-02-13 00:00:00</td>\n",
       "      <td>NaN</td>\n",
       "      <td>上海邸运房地产经纪有限公司</td>\n",
       "    </tr>\n",
       "    <tr>\n",
       "      <th>26</th>\n",
       "      <td>saas高级版</td>\n",
       "      <td>上海</td>\n",
       "      <td>上海</td>\n",
       "      <td>2020-02-14 00:00:00</td>\n",
       "      <td>NaN</td>\n",
       "      <td>上海锦万市场营销策划有限公司</td>\n",
       "    </tr>\n",
       "    <tr>\n",
       "      <th>33</th>\n",
       "      <td>saas高级版</td>\n",
       "      <td>上海</td>\n",
       "      <td>上海</td>\n",
       "      <td>2020-02-14 00:00:00</td>\n",
       "      <td>NaN</td>\n",
       "      <td>上海志佳网络服务中心</td>\n",
       "    </tr>\n",
       "  </tbody>\n",
       "</table>\n",
       "</div>"
      ],
      "text/plain": [
       "         版本  省份  城市                 签约日期   月份    公司名称（合同名称全称）\n",
       "0   saas高级版  上海  上海  2020-02-10 00:00:00  NaN     瑞安市喜迎门房屋介绍所\n",
       "14  saas高级版  上海  上海  2020-02-12 00:00:00  NaN    上海曦惠房地产经纪事务所\n",
       "22  saas高级版  上海  上海  2020-02-13 00:00:00  NaN   上海邸运房地产经纪有限公司\n",
       "26  saas高级版  上海  上海  2020-02-14 00:00:00  NaN  上海锦万市场营销策划有限公司\n",
       "33  saas高级版  上海  上海  2020-02-14 00:00:00  NaN      上海志佳网络服务中心"
      ]
     },
     "execution_count": 38,
     "metadata": {},
     "output_type": "execute_result"
    }
   ],
   "source": [
    "df[df['版本'] == 'saas高级版'][:5]"
   ]
  },
  {
   "cell_type": "markdown",
   "id": "043bcea0",
   "metadata": {},
   "source": [
    "##### 多个条件"
   ]
  },
  {
   "cell_type": "code",
   "execution_count": 41,
   "id": "8040d3b6",
   "metadata": {},
   "outputs": [
    {
     "data": {
      "text/html": [
       "<div>\n",
       "<style scoped>\n",
       "    .dataframe tbody tr th:only-of-type {\n",
       "        vertical-align: middle;\n",
       "    }\n",
       "\n",
       "    .dataframe tbody tr th {\n",
       "        vertical-align: top;\n",
       "    }\n",
       "\n",
       "    .dataframe thead th {\n",
       "        text-align: right;\n",
       "    }\n",
       "</style>\n",
       "<table border=\"1\" class=\"dataframe\">\n",
       "  <thead>\n",
       "    <tr style=\"text-align: right;\">\n",
       "      <th></th>\n",
       "      <th>版本</th>\n",
       "      <th>省份</th>\n",
       "      <th>城市</th>\n",
       "      <th>签约日期</th>\n",
       "      <th>月份</th>\n",
       "      <th>公司名称（合同名称全称）</th>\n",
       "    </tr>\n",
       "  </thead>\n",
       "  <tbody>\n",
       "    <tr>\n",
       "      <th>0</th>\n",
       "      <td>saas高级版</td>\n",
       "      <td>上海</td>\n",
       "      <td>上海</td>\n",
       "      <td>2020-02-10 00:00:00</td>\n",
       "      <td>NaN</td>\n",
       "      <td>瑞安市喜迎门房屋介绍所</td>\n",
       "    </tr>\n",
       "    <tr>\n",
       "      <th>14</th>\n",
       "      <td>saas高级版</td>\n",
       "      <td>上海</td>\n",
       "      <td>上海</td>\n",
       "      <td>2020-02-12 00:00:00</td>\n",
       "      <td>NaN</td>\n",
       "      <td>上海曦惠房地产经纪事务所</td>\n",
       "    </tr>\n",
       "    <tr>\n",
       "      <th>22</th>\n",
       "      <td>saas高级版</td>\n",
       "      <td>上海</td>\n",
       "      <td>上海</td>\n",
       "      <td>2020-02-13 00:00:00</td>\n",
       "      <td>NaN</td>\n",
       "      <td>上海邸运房地产经纪有限公司</td>\n",
       "    </tr>\n",
       "    <tr>\n",
       "      <th>26</th>\n",
       "      <td>saas高级版</td>\n",
       "      <td>上海</td>\n",
       "      <td>上海</td>\n",
       "      <td>2020-02-14 00:00:00</td>\n",
       "      <td>NaN</td>\n",
       "      <td>上海锦万市场营销策划有限公司</td>\n",
       "    </tr>\n",
       "    <tr>\n",
       "      <th>33</th>\n",
       "      <td>saas高级版</td>\n",
       "      <td>上海</td>\n",
       "      <td>上海</td>\n",
       "      <td>2020-02-14 00:00:00</td>\n",
       "      <td>NaN</td>\n",
       "      <td>上海志佳网络服务中心</td>\n",
       "    </tr>\n",
       "    <tr>\n",
       "      <th>36</th>\n",
       "      <td>saas高级版</td>\n",
       "      <td>上海</td>\n",
       "      <td>上海</td>\n",
       "      <td>2020-02-15 00:00:00</td>\n",
       "      <td>NaN</td>\n",
       "      <td>嘉兴飞帆房地产经纪有限公司</td>\n",
       "    </tr>\n",
       "    <tr>\n",
       "      <th>41</th>\n",
       "      <td>saas高级版</td>\n",
       "      <td>上海</td>\n",
       "      <td>上海</td>\n",
       "      <td>2020-02-15 00:00:00</td>\n",
       "      <td>NaN</td>\n",
       "      <td>浙江天诺房地产营销策划有限公司</td>\n",
       "    </tr>\n",
       "    <tr>\n",
       "      <th>57</th>\n",
       "      <td>saas高级版</td>\n",
       "      <td>上海</td>\n",
       "      <td>上海</td>\n",
       "      <td>2020-02-16 00:00:00</td>\n",
       "      <td>NaN</td>\n",
       "      <td>上海开亚置业有限公司</td>\n",
       "    </tr>\n",
       "    <tr>\n",
       "      <th>74</th>\n",
       "      <td>saas高级版</td>\n",
       "      <td>上海</td>\n",
       "      <td>上海</td>\n",
       "      <td>2020-02-19 00:00:00</td>\n",
       "      <td>NaN</td>\n",
       "      <td>上海凡克实业有限公司</td>\n",
       "    </tr>\n",
       "    <tr>\n",
       "      <th>80</th>\n",
       "      <td>saas高级版</td>\n",
       "      <td>上海</td>\n",
       "      <td>上海</td>\n",
       "      <td>2020-02-17 00:00:00</td>\n",
       "      <td>NaN</td>\n",
       "      <td>上海煜田实业有限公司</td>\n",
       "    </tr>\n",
       "    <tr>\n",
       "      <th>87</th>\n",
       "      <td>saas高级版</td>\n",
       "      <td>上海</td>\n",
       "      <td>上海</td>\n",
       "      <td>2020-02-17 00:00:00</td>\n",
       "      <td>NaN</td>\n",
       "      <td>上海择家信息科技有限公司</td>\n",
       "    </tr>\n",
       "    <tr>\n",
       "      <th>90</th>\n",
       "      <td>saas高级版</td>\n",
       "      <td>上海</td>\n",
       "      <td>上海</td>\n",
       "      <td>2020-02-18 00:00:00</td>\n",
       "      <td>NaN</td>\n",
       "      <td>上海琴胤商务咨询有限公司</td>\n",
       "    </tr>\n",
       "    <tr>\n",
       "      <th>95</th>\n",
       "      <td>saas高级版</td>\n",
       "      <td>上海</td>\n",
       "      <td>上海</td>\n",
       "      <td>2020-02-18 00:00:00</td>\n",
       "      <td>NaN</td>\n",
       "      <td>上海菁瑞房产经纪有限公司</td>\n",
       "    </tr>\n",
       "    <tr>\n",
       "      <th>96</th>\n",
       "      <td>saas高级版</td>\n",
       "      <td>上海</td>\n",
       "      <td>上海</td>\n",
       "      <td>2020-02-18 00:00:00</td>\n",
       "      <td>NaN</td>\n",
       "      <td>上海博墅房地产咨询有限公司</td>\n",
       "    </tr>\n",
       "    <tr>\n",
       "      <th>100</th>\n",
       "      <td>saas高级版</td>\n",
       "      <td>上海</td>\n",
       "      <td>上海</td>\n",
       "      <td>2020-02-19 00:00:00</td>\n",
       "      <td>NaN</td>\n",
       "      <td>上海佰赢房地产经纪事务所</td>\n",
       "    </tr>\n",
       "    <tr>\n",
       "      <th>147</th>\n",
       "      <td>saas高级版</td>\n",
       "      <td>上海</td>\n",
       "      <td>上海</td>\n",
       "      <td>2020-03-01 00:00:00</td>\n",
       "      <td>3月</td>\n",
       "      <td>上海利百代房地产经纪事务所</td>\n",
       "    </tr>\n",
       "    <tr>\n",
       "      <th>160</th>\n",
       "      <td>saas高级版</td>\n",
       "      <td>上海</td>\n",
       "      <td>上海</td>\n",
       "      <td>2020-03-01 00:00:00</td>\n",
       "      <td>3月</td>\n",
       "      <td>上海君馨房地产经纪有限公司</td>\n",
       "    </tr>\n",
       "    <tr>\n",
       "      <th>187</th>\n",
       "      <td>saas高级版</td>\n",
       "      <td>上海</td>\n",
       "      <td>上海</td>\n",
       "      <td>2020-03-09 00:00:00</td>\n",
       "      <td>3月</td>\n",
       "      <td>上海硕联房地产经纪有限公司</td>\n",
       "    </tr>\n",
       "    <tr>\n",
       "      <th>194</th>\n",
       "      <td>saas高级版</td>\n",
       "      <td>上海</td>\n",
       "      <td>上海</td>\n",
       "      <td>2020-03-25 00:00:00</td>\n",
       "      <td>3月</td>\n",
       "      <td>上海禾荣房地产经纪有限公司</td>\n",
       "    </tr>\n",
       "    <tr>\n",
       "      <th>205</th>\n",
       "      <td>saas高级版</td>\n",
       "      <td>上海</td>\n",
       "      <td>上海</td>\n",
       "      <td>2020-03-13 00:00:00</td>\n",
       "      <td>3月</td>\n",
       "      <td>上海奉源房产营销策划有限公司</td>\n",
       "    </tr>\n",
       "    <tr>\n",
       "      <th>209</th>\n",
       "      <td>saas高级版</td>\n",
       "      <td>上海</td>\n",
       "      <td>上海</td>\n",
       "      <td>2020-03-14 00:00:00</td>\n",
       "      <td>3月</td>\n",
       "      <td>上海逸格家房地产经纪有限责任公司</td>\n",
       "    </tr>\n",
       "    <tr>\n",
       "      <th>210</th>\n",
       "      <td>saas高级版</td>\n",
       "      <td>上海</td>\n",
       "      <td>上海</td>\n",
       "      <td>2020-03-14 00:00:00</td>\n",
       "      <td>3月</td>\n",
       "      <td>上海万兴房产经纪有限公司</td>\n",
       "    </tr>\n",
       "    <tr>\n",
       "      <th>218</th>\n",
       "      <td>saas高级版</td>\n",
       "      <td>上海</td>\n",
       "      <td>上海</td>\n",
       "      <td>2020-03-16 00:00:00</td>\n",
       "      <td>3月</td>\n",
       "      <td>上海置合网络科技有限公司</td>\n",
       "    </tr>\n",
       "    <tr>\n",
       "      <th>220</th>\n",
       "      <td>saas高级版</td>\n",
       "      <td>上海</td>\n",
       "      <td>上海</td>\n",
       "      <td>2020-03-18 00:00:00</td>\n",
       "      <td>3月</td>\n",
       "      <td>上海壹海房地产经纪事务所</td>\n",
       "    </tr>\n",
       "    <tr>\n",
       "      <th>221</th>\n",
       "      <td>saas高级版</td>\n",
       "      <td>上海</td>\n",
       "      <td>上海</td>\n",
       "      <td>2020-03-18 00:00:00</td>\n",
       "      <td>3月</td>\n",
       "      <td>上海开宏房地产经纪事务所</td>\n",
       "    </tr>\n",
       "    <tr>\n",
       "      <th>223</th>\n",
       "      <td>saas高级版</td>\n",
       "      <td>上海</td>\n",
       "      <td>上海</td>\n",
       "      <td>2020-03-19 00:00:00</td>\n",
       "      <td>3月</td>\n",
       "      <td>上海荣翔房地产经纪有限公司</td>\n",
       "    </tr>\n",
       "    <tr>\n",
       "      <th>224</th>\n",
       "      <td>saas高级版</td>\n",
       "      <td>上海</td>\n",
       "      <td>上海</td>\n",
       "      <td>2020-03-19 00:00:00</td>\n",
       "      <td>3月</td>\n",
       "      <td>上海光银房地产经纪有限公司</td>\n",
       "    </tr>\n",
       "    <tr>\n",
       "      <th>225</th>\n",
       "      <td>saas高级版</td>\n",
       "      <td>上海</td>\n",
       "      <td>上海</td>\n",
       "      <td>2020-03-20 00:00:00</td>\n",
       "      <td>3月</td>\n",
       "      <td>上海禾富实业发展有限公司</td>\n",
       "    </tr>\n",
       "    <tr>\n",
       "      <th>231</th>\n",
       "      <td>saas高级版</td>\n",
       "      <td>上海</td>\n",
       "      <td>上海</td>\n",
       "      <td>2020-03-21 00:00:00</td>\n",
       "      <td>3月</td>\n",
       "      <td>上海地平线房产经纪事务所</td>\n",
       "    </tr>\n",
       "    <tr>\n",
       "      <th>232</th>\n",
       "      <td>saas高级版</td>\n",
       "      <td>上海</td>\n",
       "      <td>上海</td>\n",
       "      <td>2020-03-23 00:00:00</td>\n",
       "      <td>3月</td>\n",
       "      <td>上海曦良房地产经纪有限公司</td>\n",
       "    </tr>\n",
       "    <tr>\n",
       "      <th>238</th>\n",
       "      <td>saas高级版</td>\n",
       "      <td>上海</td>\n",
       "      <td>上海</td>\n",
       "      <td>2020-03-25 00:00:00</td>\n",
       "      <td>3月</td>\n",
       "      <td>上海轩虹房地产咨询有限公司</td>\n",
       "    </tr>\n",
       "    <tr>\n",
       "      <th>239</th>\n",
       "      <td>saas高级版</td>\n",
       "      <td>上海</td>\n",
       "      <td>上海</td>\n",
       "      <td>2020-03-25 00:00:00</td>\n",
       "      <td>3月</td>\n",
       "      <td>上海博商房地产经纪事务所</td>\n",
       "    </tr>\n",
       "    <tr>\n",
       "      <th>243</th>\n",
       "      <td>saas高级版</td>\n",
       "      <td>上海</td>\n",
       "      <td>上海</td>\n",
       "      <td>2020-03-26 00:00:00</td>\n",
       "      <td>3月</td>\n",
       "      <td>上海汉家实业发展有限公司</td>\n",
       "    </tr>\n",
       "  </tbody>\n",
       "</table>\n",
       "</div>"
      ],
      "text/plain": [
       "          版本  省份  城市                 签约日期   月份      公司名称（合同名称全称）\n",
       "0    saas高级版  上海  上海  2020-02-10 00:00:00  NaN       瑞安市喜迎门房屋介绍所\n",
       "14   saas高级版  上海  上海  2020-02-12 00:00:00  NaN      上海曦惠房地产经纪事务所\n",
       "22   saas高级版  上海  上海  2020-02-13 00:00:00  NaN     上海邸运房地产经纪有限公司\n",
       "26   saas高级版  上海  上海  2020-02-14 00:00:00  NaN    上海锦万市场营销策划有限公司\n",
       "33   saas高级版  上海  上海  2020-02-14 00:00:00  NaN        上海志佳网络服务中心\n",
       "36   saas高级版  上海  上海  2020-02-15 00:00:00  NaN     嘉兴飞帆房地产经纪有限公司\n",
       "41   saas高级版  上海  上海  2020-02-15 00:00:00  NaN   浙江天诺房地产营销策划有限公司\n",
       "57   saas高级版  上海  上海  2020-02-16 00:00:00  NaN        上海开亚置业有限公司\n",
       "74   saas高级版  上海  上海  2020-02-19 00:00:00  NaN        上海凡克实业有限公司\n",
       "80   saas高级版  上海  上海  2020-02-17 00:00:00  NaN        上海煜田实业有限公司\n",
       "87   saas高级版  上海  上海  2020-02-17 00:00:00  NaN      上海择家信息科技有限公司\n",
       "90   saas高级版  上海  上海  2020-02-18 00:00:00  NaN      上海琴胤商务咨询有限公司\n",
       "95   saas高级版  上海  上海  2020-02-18 00:00:00  NaN      上海菁瑞房产经纪有限公司\n",
       "96   saas高级版  上海  上海  2020-02-18 00:00:00  NaN     上海博墅房地产咨询有限公司\n",
       "100  saas高级版  上海  上海  2020-02-19 00:00:00  NaN      上海佰赢房地产经纪事务所\n",
       "147  saas高级版  上海  上海  2020-03-01 00:00:00   3月     上海利百代房地产经纪事务所\n",
       "160  saas高级版  上海  上海  2020-03-01 00:00:00   3月     上海君馨房地产经纪有限公司\n",
       "187  saas高级版  上海  上海  2020-03-09 00:00:00   3月     上海硕联房地产经纪有限公司\n",
       "194  saas高级版  上海  上海  2020-03-25 00:00:00   3月     上海禾荣房地产经纪有限公司\n",
       "205  saas高级版  上海  上海  2020-03-13 00:00:00   3月    上海奉源房产营销策划有限公司\n",
       "209  saas高级版  上海  上海  2020-03-14 00:00:00   3月  上海逸格家房地产经纪有限责任公司\n",
       "210  saas高级版  上海  上海  2020-03-14 00:00:00   3月      上海万兴房产经纪有限公司\n",
       "218  saas高级版  上海  上海  2020-03-16 00:00:00   3月      上海置合网络科技有限公司\n",
       "220  saas高级版  上海  上海  2020-03-18 00:00:00   3月      上海壹海房地产经纪事务所\n",
       "221  saas高级版  上海  上海  2020-03-18 00:00:00   3月      上海开宏房地产经纪事务所\n",
       "223  saas高级版  上海  上海  2020-03-19 00:00:00   3月     上海荣翔房地产经纪有限公司\n",
       "224  saas高级版  上海  上海  2020-03-19 00:00:00   3月     上海光银房地产经纪有限公司\n",
       "225  saas高级版  上海  上海  2020-03-20 00:00:00   3月      上海禾富实业发展有限公司\n",
       "231  saas高级版  上海  上海  2020-03-21 00:00:00   3月      上海地平线房产经纪事务所\n",
       "232  saas高级版  上海  上海  2020-03-23 00:00:00   3月     上海曦良房地产经纪有限公司\n",
       "238  saas高级版  上海  上海  2020-03-25 00:00:00   3月     上海轩虹房地产咨询有限公司\n",
       "239  saas高级版  上海  上海  2020-03-25 00:00:00   3月      上海博商房地产经纪事务所\n",
       "243  saas高级版  上海  上海  2020-03-26 00:00:00   3月      上海汉家实业发展有限公司"
      ]
     },
     "execution_count": 41,
     "metadata": {},
     "output_type": "execute_result"
    }
   ],
   "source": [
    "df[(df.版本 == 'saas高级版')&(df.城市 == '上海')]"
   ]
  },
  {
   "cell_type": "markdown",
   "id": "2aeddcf0",
   "metadata": {},
   "source": [
    "#### 缺失值及异常值处理\n",
    "缺失值处理"
   ]
  },
  {
   "attachments": {
    "image.png": {
     "image/png": "[encoded data removed]"
    }
   },
   "cell_type": "markdown",
   "id": "ac5478cf",
   "metadata": {},
   "source": [
    "![image.png](attachment:image.png)"
   ]
  },
  {
   "cell_type": "markdown",
   "id": "1f28691a",
   "metadata": {},
   "source": [
    "##### 判断缺失值"
   ]
  },
  {
   "cell_type": "code",
   "execution_count": 46,
   "id": "fb8a6c05",
   "metadata": {},
   "outputs": [
    {
     "data": {
      "text/html": [
       "<div>\n",
       "<style scoped>\n",
       "    .dataframe tbody tr th:only-of-type {\n",
       "        vertical-align: middle;\n",
       "    }\n",
       "\n",
       "    .dataframe tbody tr th {\n",
       "        vertical-align: top;\n",
       "    }\n",
       "\n",
       "    .dataframe thead th {\n",
       "        text-align: right;\n",
       "    }\n",
       "</style>\n",
       "<table border=\"1\" class=\"dataframe\">\n",
       "  <thead>\n",
       "    <tr style=\"text-align: right;\">\n",
       "      <th></th>\n",
       "      <th>版本</th>\n",
       "      <th>省份</th>\n",
       "      <th>城市</th>\n",
       "      <th>签约日期</th>\n",
       "      <th>月份</th>\n",
       "      <th>公司名称（合同名称全称）</th>\n",
       "    </tr>\n",
       "  </thead>\n",
       "  <tbody>\n",
       "  </tbody>\n",
       "</table>\n",
       "</div>"
      ],
      "text/plain": [
       "Empty DataFrame\n",
       "Columns: [版本, 省份, 城市, 签约日期, 月份, 公司名称（合同名称全称）]\n",
       "Index: []"
      ]
     },
     "execution_count": 46,
     "metadata": {},
     "output_type": "execute_result"
    }
   ],
   "source": [
    "df[df['版本'].isnull()]"
   ]
  },
  {
   "cell_type": "markdown",
   "id": "19626df1",
   "metadata": {},
   "source": [
    "#### 填充缺失值\n",
    "fillna()"
   ]
  },
  {
   "cell_type": "code",
   "execution_count": 47,
   "id": "ce951af0",
   "metadata": {},
   "outputs": [
    {
     "data": {
      "text/html": [
       "<div>\n",
       "<style scoped>\n",
       "    .dataframe tbody tr th:only-of-type {\n",
       "        vertical-align: middle;\n",
       "    }\n",
       "\n",
       "    .dataframe tbody tr th {\n",
       "        vertical-align: top;\n",
       "    }\n",
       "\n",
       "    .dataframe thead th {\n",
       "        text-align: right;\n",
       "    }\n",
       "</style>\n",
       "<table border=\"1\" class=\"dataframe\">\n",
       "  <thead>\n",
       "    <tr style=\"text-align: right;\">\n",
       "      <th></th>\n",
       "      <th>版本</th>\n",
       "      <th>省份</th>\n",
       "      <th>城市</th>\n",
       "      <th>签约日期</th>\n",
       "      <th>月份</th>\n",
       "      <th>公司名称（合同名称全称）</th>\n",
       "      <th>门店ID</th>\n",
       "    </tr>\n",
       "  </thead>\n",
       "  <tbody>\n",
       "    <tr>\n",
       "      <th>0</th>\n",
       "      <td>saas高级版</td>\n",
       "      <td>上海</td>\n",
       "      <td>上海</td>\n",
       "      <td>2020-02-10 00:00:00</td>\n",
       "      <td>NaN</td>\n",
       "      <td>瑞安市喜迎门房屋介绍所</td>\n",
       "      <td>1</td>\n",
       "    </tr>\n",
       "    <tr>\n",
       "      <th>1</th>\n",
       "      <td>saas初级版</td>\n",
       "      <td>上海</td>\n",
       "      <td>上海</td>\n",
       "      <td>2020-02-10 00:00:00</td>\n",
       "      <td>NaN</td>\n",
       "      <td>上海跃邻房地产经纪有限公司</td>\n",
       "      <td>2</td>\n",
       "    </tr>\n",
       "    <tr>\n",
       "      <th>2</th>\n",
       "      <td>saas初级版</td>\n",
       "      <td>上海</td>\n",
       "      <td>上海</td>\n",
       "      <td>2020-02-10 00:00:00</td>\n",
       "      <td>NaN</td>\n",
       "      <td>上海驿荣房地产经纪事务所</td>\n",
       "      <td>3</td>\n",
       "    </tr>\n",
       "    <tr>\n",
       "      <th>3</th>\n",
       "      <td>saas初级版</td>\n",
       "      <td>上海</td>\n",
       "      <td>上海</td>\n",
       "      <td>2020-02-10 00:00:00</td>\n",
       "      <td>NaN</td>\n",
       "      <td>上海多栖网络科技中心有限公司</td>\n",
       "      <td>4</td>\n",
       "    </tr>\n",
       "    <tr>\n",
       "      <th>4</th>\n",
       "      <td>saas初级版</td>\n",
       "      <td>上海</td>\n",
       "      <td>上海</td>\n",
       "      <td>2020-02-11 00:00:00</td>\n",
       "      <td>NaN</td>\n",
       "      <td>上海迁禧房地产营销策划有限公司宁波杭州湾新区分公司</td>\n",
       "      <td>5</td>\n",
       "    </tr>\n",
       "    <tr>\n",
       "      <th>...</th>\n",
       "      <td>...</td>\n",
       "      <td>...</td>\n",
       "      <td>...</td>\n",
       "      <td>...</td>\n",
       "      <td>...</td>\n",
       "      <td>...</td>\n",
       "      <td>...</td>\n",
       "    </tr>\n",
       "    <tr>\n",
       "      <th>252</th>\n",
       "      <td>saas初级版</td>\n",
       "      <td>上海</td>\n",
       "      <td>上海</td>\n",
       "      <td>2020-03-30 00:00:00</td>\n",
       "      <td>3月</td>\n",
       "      <td>上海承义房地产经纪有限公司</td>\n",
       "      <td>253</td>\n",
       "    </tr>\n",
       "    <tr>\n",
       "      <th>253</th>\n",
       "      <td>saas初级版</td>\n",
       "      <td>上海</td>\n",
       "      <td>上海</td>\n",
       "      <td>2020-03-30 00:00:00</td>\n",
       "      <td>3月</td>\n",
       "      <td>上海盛鸿房地产经纪事务所</td>\n",
       "      <td>254</td>\n",
       "    </tr>\n",
       "    <tr>\n",
       "      <th>254</th>\n",
       "      <td>saas初级版</td>\n",
       "      <td>上海</td>\n",
       "      <td>上海</td>\n",
       "      <td>2020-03-30 00:00:00</td>\n",
       "      <td>3月</td>\n",
       "      <td>上海敞淳房产经纪有限公司</td>\n",
       "      <td>255</td>\n",
       "    </tr>\n",
       "    <tr>\n",
       "      <th>255</th>\n",
       "      <td>saas初级版</td>\n",
       "      <td>上海</td>\n",
       "      <td>上海</td>\n",
       "      <td>2020-03-30 00:00:00</td>\n",
       "      <td>3月</td>\n",
       "      <td>上海嘉丞房地产经纪有限公司</td>\n",
       "      <td>256</td>\n",
       "    </tr>\n",
       "    <tr>\n",
       "      <th>256</th>\n",
       "      <td>saas初级版</td>\n",
       "      <td>上海</td>\n",
       "      <td>上海</td>\n",
       "      <td>2020-03-31 00:00:00</td>\n",
       "      <td>3月</td>\n",
       "      <td>上海金丽丰房地产纪有限公司</td>\n",
       "      <td>257</td>\n",
       "    </tr>\n",
       "  </tbody>\n",
       "</table>\n",
       "<p>257 rows × 7 columns</p>\n",
       "</div>"
      ],
      "text/plain": [
       "          版本  省份  城市                 签约日期   月份               公司名称（合同名称全称）  \\\n",
       "0    saas高级版  上海  上海  2020-02-10 00:00:00  NaN                瑞安市喜迎门房屋介绍所   \n",
       "1    saas初级版  上海  上海  2020-02-10 00:00:00  NaN              上海跃邻房地产经纪有限公司   \n",
       "2    saas初级版  上海  上海  2020-02-10 00:00:00  NaN               上海驿荣房地产经纪事务所   \n",
       "3    saas初级版  上海  上海  2020-02-10 00:00:00  NaN             上海多栖网络科技中心有限公司   \n",
       "4    saas初级版  上海  上海  2020-02-11 00:00:00  NaN  上海迁禧房地产营销策划有限公司宁波杭州湾新区分公司   \n",
       "..       ...  ..  ..                  ...  ...                        ...   \n",
       "252  saas初级版  上海  上海  2020-03-30 00:00:00   3月              上海承义房地产经纪有限公司   \n",
       "253  saas初级版  上海  上海  2020-03-30 00:00:00   3月               上海盛鸿房地产经纪事务所   \n",
       "254  saas初级版  上海  上海  2020-03-30 00:00:00   3月               上海敞淳房产经纪有限公司   \n",
       "255  saas初级版  上海  上海  2020-03-30 00:00:00   3月              上海嘉丞房地产经纪有限公司   \n",
       "256  saas初级版  上海  上海  2020-03-31 00:00:00   3月              上海金丽丰房地产纪有限公司   \n",
       "\n",
       "     门店ID  \n",
       "0       1  \n",
       "1       2  \n",
       "2       3  \n",
       "3       4  \n",
       "4       5  \n",
       "..    ...  \n",
       "252   253  \n",
       "253   254  \n",
       "254   255  \n",
       "255   256  \n",
       "256   257  \n",
       "\n",
       "[257 rows x 7 columns]"
      ]
     },
     "execution_count": 47,
     "metadata": {},
     "output_type": "execute_result"
    }
   ],
   "source": [
    "df['门店ID']=range(1,len(df)+1)\n",
    "df"
   ]
  },
  {
   "cell_type": "code",
   "execution_count": 64,
   "id": "61b4ac7f",
   "metadata": {},
   "outputs": [
    {
     "name": "stderr",
     "output_type": "stream",
     "text": [
      "C:\\Users\\Bugco\\AppData\\Local\\Temp\\ipykernel_11024\\3508565578.py:9: FutureWarning: The frame.append method is deprecated and will be removed from pandas in a future version. Use pandas.concat instead.\n",
      "  df = df.append(s)\n"
     ]
    }
   ],
   "source": [
    "dit = {'版本':'新增版2',\n",
    "      '省份':'上海',\n",
    "      '城市':np.nan,\n",
    "      '签约日期':'2022-05-31 00:00:00',\n",
    "      '月份':np.nan,\n",
    "      '公司名称（合同名称全称）':'新增门店'}\n",
    "s = pd.Series(dit)\n",
    "s.name=258\n",
    "df = df.append(s)\n"
   ]
  },
  {
   "cell_type": "code",
   "execution_count": 65,
   "id": "b3fc3e45",
   "metadata": {},
   "outputs": [
    {
     "data": {
      "text/html": [
       "<div>\n",
       "<style scoped>\n",
       "    .dataframe tbody tr th:only-of-type {\n",
       "        vertical-align: middle;\n",
       "    }\n",
       "\n",
       "    .dataframe tbody tr th {\n",
       "        vertical-align: top;\n",
       "    }\n",
       "\n",
       "    .dataframe thead th {\n",
       "        text-align: right;\n",
       "    }\n",
       "</style>\n",
       "<table border=\"1\" class=\"dataframe\">\n",
       "  <thead>\n",
       "    <tr style=\"text-align: right;\">\n",
       "      <th></th>\n",
       "      <th>版本</th>\n",
       "      <th>省份</th>\n",
       "      <th>城市</th>\n",
       "      <th>签约日期</th>\n",
       "      <th>月份</th>\n",
       "      <th>公司名称（合同名称全称）</th>\n",
       "      <th>门店ID</th>\n",
       "    </tr>\n",
       "  </thead>\n",
       "  <tbody>\n",
       "    <tr>\n",
       "      <th>255</th>\n",
       "      <td>saas初级版</td>\n",
       "      <td>上海</td>\n",
       "      <td>上海</td>\n",
       "      <td>2020-03-30 00:00:00</td>\n",
       "      <td>3月</td>\n",
       "      <td>上海嘉丞房地产经纪有限公司</td>\n",
       "      <td>256.0</td>\n",
       "    </tr>\n",
       "    <tr>\n",
       "      <th>256</th>\n",
       "      <td>saas初级版</td>\n",
       "      <td>上海</td>\n",
       "      <td>上海</td>\n",
       "      <td>2020-03-31 00:00:00</td>\n",
       "      <td>3月</td>\n",
       "      <td>上海金丽丰房地产纪有限公司</td>\n",
       "      <td>257.0</td>\n",
       "    </tr>\n",
       "    <tr>\n",
       "      <th>258</th>\n",
       "      <td>新增版2</td>\n",
       "      <td>上海</td>\n",
       "      <td>NaN</td>\n",
       "      <td>20220520</td>\n",
       "      <td>NaN</td>\n",
       "      <td>新增门店</td>\n",
       "      <td>NaN</td>\n",
       "    </tr>\n",
       "    <tr>\n",
       "      <th>258</th>\n",
       "      <td>新增版2</td>\n",
       "      <td>上海</td>\n",
       "      <td>NaN</td>\n",
       "      <td>2022-05-20</td>\n",
       "      <td>NaN</td>\n",
       "      <td>新增门店</td>\n",
       "      <td>NaN</td>\n",
       "    </tr>\n",
       "    <tr>\n",
       "      <th>258</th>\n",
       "      <td>新增版2</td>\n",
       "      <td>上海</td>\n",
       "      <td>NaN</td>\n",
       "      <td>2022-05-31 00:00:00</td>\n",
       "      <td>NaN</td>\n",
       "      <td>新增门店</td>\n",
       "      <td>NaN</td>\n",
       "    </tr>\n",
       "  </tbody>\n",
       "</table>\n",
       "</div>"
      ],
      "text/plain": [
       "          版本  省份   城市                 签约日期   月份   公司名称（合同名称全称）   门店ID\n",
       "255  saas初级版  上海   上海  2020-03-30 00:00:00   3月  上海嘉丞房地产经纪有限公司  256.0\n",
       "256  saas初级版  上海   上海  2020-03-31 00:00:00   3月  上海金丽丰房地产纪有限公司  257.0\n",
       "258     新增版2  上海  NaN             20220520  NaN           新增门店    NaN\n",
       "258     新增版2  上海  NaN           2022-05-20  NaN           新增门店    NaN\n",
       "258     新增版2  上海  NaN  2022-05-31 00:00:00  NaN           新增门店    NaN"
      ]
     },
     "execution_count": 65,
     "metadata": {},
     "output_type": "execute_result"
    }
   ],
   "source": [
    "df.tail()"
   ]
  },
  {
   "cell_type": "code",
   "execution_count": null,
   "id": "aa454cc5",
   "metadata": {},
   "outputs": [],
   "source": []
  }
 ],
 "metadata": {
  "kernelspec": {
   "display_name": "Python 3 (ipykernel)",
   "language": "python",
   "name": "python3"
  },
  "language_info": {
   "codemirror_mode": {
    "name": "ipython",
    "version": 3
   },
   "file_extension": ".py",
   "mimetype": "text/x-python",
   "name": "python",
   "nbconvert_exporter": "python",
   "pygments_lexer": "ipython3",
   "version": "3.9.12"
  }
 },
 "nbformat": 4,
 "nbformat_minor": 5
}
